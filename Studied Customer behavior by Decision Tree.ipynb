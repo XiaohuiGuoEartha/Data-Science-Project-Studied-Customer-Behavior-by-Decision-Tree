{
 "cells": [
  {
   "cell_type": "markdown",
   "metadata": {},
   "source": [
    "\n",
    "## Data Science Project： Studied Customer behavior by Decision Tree"
   ]
  },
  {
   "cell_type": "markdown",
   "metadata": {},
   "source": [
    "### by Xiaohui(Eartha) Guo\n",
    "\n",
    "\n",
    "***"
   ]
  },
  {
   "cell_type": "markdown",
   "metadata": {},
   "source": [
    "### Preparing a Training Set and Training a Decision Tree\n",
    "\n",
    "\n",
    "\n",
    "This is a hands-on task where we build a predictive model using Decision Trees discussed in class. For this part, we will be using the data in `cell2cell_data.csv`.\n",
    "\n",
    "These historical data consist of 39,859 customers: 19,901 customers that churned (i.e., left the company) and 19,958 that did not churn (see the `\"churndep\"` variable). Here are the data set's 11 possible predictor variables for churning behavior: \n",
    "\n",
    "```\n",
    "Pos.  Var. Name  Var. Description\n",
    "----- ---------- --------------------------------------------------------------\n",
    "1     revenue    Mean monthly revenue in dollars\n",
    "2     outcalls   Mean number of outbound voice calls\n",
    "3     incalls    Mean number of inbound voice calls\n",
    "4     months     Months in Service\n",
    "5     eqpdays    Number of days the customer has had his/her current equipment\n",
    "6     webcap     Handset is web capable\n",
    "7     marryyes   Married (1=Yes; 0=No)\n",
    "8     travel     Has traveled to non-US country (1=Yes; 0=No)\n",
    "9     pcown      Owns a personal computer (1=Yes; 0=No)\n",
    "10    creditcd   Possesses a credit card (1=Yes; 0=No)\n",
    "11    retcalls   Number of calls previously made to retention team\n",
    "```\n",
    "\n",
    "The 12th column, the dependent variable `\"churndep\"`, equals 1 if the customer churned, and 0 otherwise. "
   ]
  },
  {
   "cell_type": "markdown",
   "metadata": {},
   "source": [
    "1\\. Load the data and prepare it for modeling. Note that the features are already processed for you, so the only thing needed here is split the data into training and testing. Use pandas to create two data frames: train_df and test_df, where train_df has 80% of the data chosen uniformly at random without replacement (test_df should have the other 20%). Also, make sure to write your own code to do the splits. You may use any random() function numpy but DO NOT use the data splitting functions from Sklearn."
   ]
  },
  {
   "cell_type": "code",
   "execution_count": 113,
   "metadata": {
    "collapsed": false
   },
   "outputs": [
    {
     "data": {
      "text/plain": [
       "(39859, 12)"
      ]
     },
     "execution_count": 113,
     "metadata": {},
     "output_type": "execute_result"
    }
   ],
   "source": [
    "import pandas as pd\n",
    "\n",
    "# Code here\n",
    "# read the original data set and add column names\n",
    "names=col_headers_list = ['revenue','outcalls','incalls','months','eqpdays','webcap','marryyes','travel','pcown','creditcd','retcalls','churndep']\n",
    "df = pd.read_csv('/Users/earthaguo/earthaguo/Documents/Introduction to data science/Hw2 March 28/ipython/hw/hw_2/data/cell2cell_data.csv',header=None, names=col_headers_list)\n",
    "df.shape\n"
   ]
  },
  {
   "cell_type": "code",
   "execution_count": 114,
   "metadata": {
    "collapsed": false
   },
   "outputs": [],
   "source": [
    "# split the data into training and testing\n",
    "train_df=df.sample(frac=0.8,random_state=39859)\n",
    "test_df=df.drop(train_df.index)\n"
   ]
  },
  {
   "cell_type": "code",
   "execution_count": 316,
   "metadata": {
    "collapsed": false
   },
   "outputs": [
    {
     "data": {
      "text/html": [
       "<div>\n",
       "<table border=\"1\" class=\"dataframe\">\n",
       "  <thead>\n",
       "    <tr style=\"text-align: right;\">\n",
       "      <th></th>\n",
       "      <th>revenue</th>\n",
       "      <th>outcalls</th>\n",
       "      <th>incalls</th>\n",
       "      <th>months</th>\n",
       "      <th>eqpdays</th>\n",
       "      <th>webcap</th>\n",
       "      <th>marryyes</th>\n",
       "      <th>travel</th>\n",
       "      <th>pcown</th>\n",
       "      <th>creditcd</th>\n",
       "      <th>retcalls</th>\n",
       "      <th>churndep</th>\n",
       "    </tr>\n",
       "  </thead>\n",
       "  <tbody>\n",
       "    <tr>\n",
       "      <th>13260</th>\n",
       "      <td>56.07</td>\n",
       "      <td>11.67</td>\n",
       "      <td>2.67</td>\n",
       "      <td>9</td>\n",
       "      <td>288</td>\n",
       "      <td>1</td>\n",
       "      <td>0</td>\n",
       "      <td>0</td>\n",
       "      <td>1</td>\n",
       "      <td>1</td>\n",
       "      <td>0</td>\n",
       "      <td>1</td>\n",
       "    </tr>\n",
       "    <tr>\n",
       "      <th>12320</th>\n",
       "      <td>69.63</td>\n",
       "      <td>15.00</td>\n",
       "      <td>1.67</td>\n",
       "      <td>26</td>\n",
       "      <td>467</td>\n",
       "      <td>1</td>\n",
       "      <td>0</td>\n",
       "      <td>1</td>\n",
       "      <td>0</td>\n",
       "      <td>1</td>\n",
       "      <td>0</td>\n",
       "      <td>1</td>\n",
       "    </tr>\n",
       "    <tr>\n",
       "      <th>10363</th>\n",
       "      <td>66.47</td>\n",
       "      <td>3.33</td>\n",
       "      <td>0.67</td>\n",
       "      <td>13</td>\n",
       "      <td>381</td>\n",
       "      <td>1</td>\n",
       "      <td>1</td>\n",
       "      <td>0</td>\n",
       "      <td>0</td>\n",
       "      <td>1</td>\n",
       "      <td>0</td>\n",
       "      <td>1</td>\n",
       "    </tr>\n",
       "    <tr>\n",
       "      <th>18012</th>\n",
       "      <td>50.53</td>\n",
       "      <td>3.00</td>\n",
       "      <td>1.33</td>\n",
       "      <td>30</td>\n",
       "      <td>270</td>\n",
       "      <td>1</td>\n",
       "      <td>1</td>\n",
       "      <td>0</td>\n",
       "      <td>0</td>\n",
       "      <td>1</td>\n",
       "      <td>0</td>\n",
       "      <td>1</td>\n",
       "    </tr>\n",
       "    <tr>\n",
       "      <th>1416</th>\n",
       "      <td>50.74</td>\n",
       "      <td>13.00</td>\n",
       "      <td>0.00</td>\n",
       "      <td>30</td>\n",
       "      <td>900</td>\n",
       "      <td>0</td>\n",
       "      <td>0</td>\n",
       "      <td>0</td>\n",
       "      <td>0</td>\n",
       "      <td>1</td>\n",
       "      <td>0</td>\n",
       "      <td>1</td>\n",
       "    </tr>\n",
       "  </tbody>\n",
       "</table>\n",
       "</div>"
      ],
      "text/plain": [
       "       revenue  outcalls  incalls  months  eqpdays  webcap  marryyes  travel  \\\n",
       "13260    56.07     11.67     2.67       9      288       1         0       0   \n",
       "12320    69.63     15.00     1.67      26      467       1         0       1   \n",
       "10363    66.47      3.33     0.67      13      381       1         1       0   \n",
       "18012    50.53      3.00     1.33      30      270       1         1       0   \n",
       "1416     50.74     13.00     0.00      30      900       0         0       0   \n",
       "\n",
       "       pcown  creditcd  retcalls  churndep  \n",
       "13260      1         1         0         1  \n",
       "12320      0         1         0         1  \n",
       "10363      0         1         0         1  \n",
       "18012      0         1         0         1  \n",
       "1416       0         1         0         1  "
      ]
     },
     "execution_count": 316,
     "metadata": {},
     "output_type": "execute_result"
    }
   ],
   "source": [
    "train_df.head()\n"
   ]
  },
  {
   "cell_type": "code",
   "execution_count": 317,
   "metadata": {
    "collapsed": false,
    "scrolled": false
   },
   "outputs": [
    {
     "data": {
      "text/html": [
       "<div>\n",
       "<table border=\"1\" class=\"dataframe\">\n",
       "  <thead>\n",
       "    <tr style=\"text-align: right;\">\n",
       "      <th></th>\n",
       "      <th>revenue</th>\n",
       "      <th>outcalls</th>\n",
       "      <th>incalls</th>\n",
       "      <th>months</th>\n",
       "      <th>eqpdays</th>\n",
       "      <th>webcap</th>\n",
       "      <th>marryyes</th>\n",
       "      <th>travel</th>\n",
       "      <th>pcown</th>\n",
       "      <th>creditcd</th>\n",
       "      <th>retcalls</th>\n",
       "      <th>churndep</th>\n",
       "    </tr>\n",
       "  </thead>\n",
       "  <tbody>\n",
       "    <tr>\n",
       "      <th>2</th>\n",
       "      <td>29.99</td>\n",
       "      <td>0.00</td>\n",
       "      <td>0.00</td>\n",
       "      <td>52</td>\n",
       "      <td>1441</td>\n",
       "      <td>0</td>\n",
       "      <td>0</td>\n",
       "      <td>0</td>\n",
       "      <td>1</td>\n",
       "      <td>1</td>\n",
       "      <td>3</td>\n",
       "      <td>1</td>\n",
       "    </tr>\n",
       "    <tr>\n",
       "      <th>13</th>\n",
       "      <td>98.47</td>\n",
       "      <td>24.67</td>\n",
       "      <td>3.33</td>\n",
       "      <td>35</td>\n",
       "      <td>13</td>\n",
       "      <td>0</td>\n",
       "      <td>0</td>\n",
       "      <td>1</td>\n",
       "      <td>1</td>\n",
       "      <td>1</td>\n",
       "      <td>3</td>\n",
       "      <td>1</td>\n",
       "    </tr>\n",
       "    <tr>\n",
       "      <th>15</th>\n",
       "      <td>25.14</td>\n",
       "      <td>15.00</td>\n",
       "      <td>1.00</td>\n",
       "      <td>25</td>\n",
       "      <td>743</td>\n",
       "      <td>1</td>\n",
       "      <td>0</td>\n",
       "      <td>0</td>\n",
       "      <td>0</td>\n",
       "      <td>0</td>\n",
       "      <td>2</td>\n",
       "      <td>1</td>\n",
       "    </tr>\n",
       "    <tr>\n",
       "      <th>31</th>\n",
       "      <td>16.14</td>\n",
       "      <td>0.00</td>\n",
       "      <td>0.00</td>\n",
       "      <td>44</td>\n",
       "      <td>1324</td>\n",
       "      <td>0</td>\n",
       "      <td>0</td>\n",
       "      <td>0</td>\n",
       "      <td>0</td>\n",
       "      <td>1</td>\n",
       "      <td>1</td>\n",
       "      <td>1</td>\n",
       "    </tr>\n",
       "    <tr>\n",
       "      <th>37</th>\n",
       "      <td>37.49</td>\n",
       "      <td>18.00</td>\n",
       "      <td>33.67</td>\n",
       "      <td>32</td>\n",
       "      <td>718</td>\n",
       "      <td>1</td>\n",
       "      <td>1</td>\n",
       "      <td>0</td>\n",
       "      <td>0</td>\n",
       "      <td>1</td>\n",
       "      <td>2</td>\n",
       "      <td>1</td>\n",
       "    </tr>\n",
       "  </tbody>\n",
       "</table>\n",
       "</div>"
      ],
      "text/plain": [
       "    revenue  outcalls  incalls  months  eqpdays  webcap  marryyes  travel  \\\n",
       "2     29.99      0.00     0.00      52     1441       0         0       0   \n",
       "13    98.47     24.67     3.33      35       13       0         0       1   \n",
       "15    25.14     15.00     1.00      25      743       1         0       0   \n",
       "31    16.14      0.00     0.00      44     1324       0         0       0   \n",
       "37    37.49     18.00    33.67      32      718       1         1       0   \n",
       "\n",
       "    pcown  creditcd  retcalls  churndep  \n",
       "2       1         1         3         1  \n",
       "13      1         1         3         1  \n",
       "15      0         0         2         1  \n",
       "31      0         1         1         1  \n",
       "37      0         1         2         1  "
      ]
     },
     "execution_count": 317,
     "metadata": {},
     "output_type": "execute_result"
    }
   ],
   "source": [
    "test_df.head()"
   ]
  },
  {
   "cell_type": "code",
   "execution_count": 318,
   "metadata": {
    "collapsed": false,
    "scrolled": true
   },
   "outputs": [
    {
     "data": {
      "text/plain": [
       "(31887, 12)"
      ]
     },
     "execution_count": 318,
     "metadata": {},
     "output_type": "execute_result"
    }
   ],
   "source": [
    "#Check the shape of training data and testing data\n",
    "train_df.shape"
   ]
  },
  {
   "cell_type": "code",
   "execution_count": 319,
   "metadata": {
    "collapsed": false
   },
   "outputs": [
    {
     "data": {
      "text/plain": [
       "(7972, 12)"
      ]
     },
     "execution_count": 319,
     "metadata": {},
     "output_type": "execute_result"
    }
   ],
   "source": [
    "test_df.shape"
   ]
  },
  {
   "cell_type": "code",
   "execution_count": 320,
   "metadata": {
    "collapsed": false
   },
   "outputs": [
    {
     "data": {
      "text/plain": [
       "39859"
      ]
     },
     "execution_count": 320,
     "metadata": {},
     "output_type": "execute_result"
    }
   ],
   "source": [
    "# Double check the sum of the rows of train and test data\n",
    "7972 + 31887"
   ]
  },
  {
   "cell_type": "code",
   "execution_count": 80,
   "metadata": {
    "collapsed": false
   },
   "outputs": [],
   "source": [
    "#it sums up to be the total row number of the origianl data set. "
   ]
  },
  {
   "cell_type": "markdown",
   "metadata": {},
   "source": [
    "2\\. If we had to, how would we prove to ourselves or a colleague that our data was indeed randomly sampled on X? And by prove, I mean empirically, not just showing this person our code. Don't actually do the work, just describe in your own words a test you could here. Hint: think about this in terms of selection bias and use notes from our 2nd lecture."
   ]
  },
  {
   "cell_type": "markdown",
   "metadata": {},
   "source": [
    "#### Answer:\n",
    "\n",
    "When sampling is random, the sample mean methods can be used to measure the extent of the variation caused by sampling error. If we know the population mean,  use the bootstrap to generate a confidence interval of the sample mean. we calculate the mean of the sample we generated. If the sample mean we calculated is within the confidence interval, then can can say we are some percent confidence that the sample is random. \n",
    "\n",
    "\n",
    "\n",
    "\n",
    "\n",
    "\n",
    "\n"
   ]
  },
  {
   "cell_type": "markdown",
   "metadata": {},
   "source": [
    "3\\. Now build and train a decision tree classifier using `DecisionTreeClassifier()` [(manual page)](http://scikit-learn.org/stable/modules/generated/sklearn.tree.DecisionTreeClassifier.html) on train_df to predict the `\"churndep\"` target variable. Make sure to use `criterion='entropy'` when instantiating an instance of `DecisionTreeClassifier()`. For all other settings you should use all of the default options."
   ]
  },
  {
   "cell_type": "code",
   "execution_count": 102,
   "metadata": {
    "collapsed": false
   },
   "outputs": [
    {
     "data": {
      "text/plain": [
       "DecisionTreeClassifier(class_weight=None, criterion='entropy', max_depth=None,\n",
       "            max_features=None, max_leaf_nodes=None,\n",
       "            min_impurity_split=1e-07, min_samples_leaf=1,\n",
       "            min_samples_split=2, min_weight_fraction_leaf=0.0,\n",
       "            presort=False, random_state=None, splitter='best')"
      ]
     },
     "execution_count": 102,
     "metadata": {},
     "output_type": "execute_result"
    }
   ],
   "source": [
    "import sklearn\n",
    "import pandas as pd\n",
    "import numpy as np\n",
    "import scipy as sp\n",
    "import matplotlib.pyplot as plt\n",
    "\n",
    "from sklearn.tree import DecisionTreeClassifier\n",
    "from sklearn.tree import export_graphviz\n",
    "from IPython.display import Image\n",
    "%matplotlib inline\n",
    "\n",
    "\n",
    "# Code here\n",
    "clf = DecisionTreeClassifier(criterion='entropy')\n",
    "clf"
   ]
  },
  {
   "cell_type": "markdown",
   "metadata": {},
   "source": [
    "4\\. Using the resulting model from 2.2, show a bar plot of feature names and their feature importance (hint: check the attributes of the `DecisionTreeClassifier()` object directly in IPython or check the manual!)."
   ]
  },
  {
   "cell_type": "code",
   "execution_count": 105,
   "metadata": {
    "collapsed": false,
    "scrolled": true
   },
   "outputs": [
    {
     "data": {
      "text/plain": [
       "<matplotlib.text.Text at 0x1193c1630>"
      ]
     },
     "execution_count": 105,
     "metadata": {},
     "output_type": "execute_result"
    },
    {
     "data": {
      "image/png": "[encoded data removed]",
      "text/plain": [
       "<matplotlib.figure.Figure at 0x11943b0f0>"
      ]
     },
     "metadata": {},
     "output_type": "display_data"
    }
   ],
   "source": [
    "import matplotlib.pyplot as plt\n",
    "%matplotlib inline\n",
    "\n",
    "# Code here\n",
    "\n",
    "lab = 'churndep'\n",
    "clf = DecisionTreeClassifier(criterion = 'entropy')\n",
    "clf = clf.fit(train_df.drop(lab, 1), train_df[lab])\n",
    "\n",
    "\n",
    "fig, ax = plt.subplots()\n",
    "width = 0.35\n",
    "#ax.bar(train.drop(lab,1).columns.values, clf.feature_importances_, width, color='r')\n",
    "ax.bar(np.arange(11), clf.feature_importances_, width, color = 'r')\n",
    "ax.set_xticks(np.arange(len(clf.feature_importances_)))\n",
    "ax.set_xticklabels(train_df.drop(lab,1).columns.values, rotation = 90)\n",
    "plt.title('Feature Importance')\n",
    "ax.set_ylabel('Normalized Gini Importance')"
   ]
  },
  {
   "cell_type": "markdown",
   "metadata": {},
   "source": [
    "5\\. Is the relationship between the top 3 most important features (as measured here) negative or positive? If your marketing director asked you to explain the top 3 drivers of churn, how would you interpret the relationship between these 3 features and the churn outcome?  What \"real-life\" connection can you draw between each variable and churn?"
   ]
  },
  {
   "cell_type": "code",
   "execution_count": 83,
   "metadata": {
    "collapsed": false
   },
   "outputs": [
    {
     "data": {
      "text/html": [
       "<div>\n",
       "<table border=\"1\" class=\"dataframe\">\n",
       "  <thead>\n",
       "    <tr style=\"text-align: right;\">\n",
       "      <th></th>\n",
       "      <th>revenue</th>\n",
       "      <th>outcalls</th>\n",
       "      <th>incalls</th>\n",
       "      <th>months</th>\n",
       "      <th>eqpdays</th>\n",
       "      <th>webcap</th>\n",
       "      <th>marryyes</th>\n",
       "      <th>travel</th>\n",
       "      <th>pcown</th>\n",
       "      <th>creditcd</th>\n",
       "      <th>retcalls</th>\n",
       "      <th>churndep</th>\n",
       "    </tr>\n",
       "  </thead>\n",
       "  <tbody>\n",
       "    <tr>\n",
       "      <th>revenue</th>\n",
       "      <td>1.000000</td>\n",
       "      <td>0.500870</td>\n",
       "      <td>0.391010</td>\n",
       "      <td>-0.015780</td>\n",
       "      <td>-0.221958</td>\n",
       "      <td>0.106620</td>\n",
       "      <td>-0.096705</td>\n",
       "      <td>-0.041864</td>\n",
       "      <td>-0.081805</td>\n",
       "      <td>-0.087456</td>\n",
       "      <td>0.015427</td>\n",
       "      <td>-0.013566</td>\n",
       "    </tr>\n",
       "    <tr>\n",
       "      <th>outcalls</th>\n",
       "      <td>0.500870</td>\n",
       "      <td>1.000000</td>\n",
       "      <td>0.732988</td>\n",
       "      <td>-0.040653</td>\n",
       "      <td>-0.243999</td>\n",
       "      <td>0.112359</td>\n",
       "      <td>-0.125843</td>\n",
       "      <td>-0.039030</td>\n",
       "      <td>-0.091914</td>\n",
       "      <td>-0.098286</td>\n",
       "      <td>0.012671</td>\n",
       "      <td>-0.037233</td>\n",
       "    </tr>\n",
       "    <tr>\n",
       "      <th>incalls</th>\n",
       "      <td>0.391010</td>\n",
       "      <td>0.732988</td>\n",
       "      <td>1.000000</td>\n",
       "      <td>-0.026167</td>\n",
       "      <td>-0.204684</td>\n",
       "      <td>0.092961</td>\n",
       "      <td>-0.094644</td>\n",
       "      <td>-0.037147</td>\n",
       "      <td>-0.076525</td>\n",
       "      <td>-0.078713</td>\n",
       "      <td>0.004195</td>\n",
       "      <td>-0.042031</td>\n",
       "    </tr>\n",
       "    <tr>\n",
       "      <th>months</th>\n",
       "      <td>-0.015780</td>\n",
       "      <td>-0.040653</td>\n",
       "      <td>-0.026167</td>\n",
       "      <td>1.000000</td>\n",
       "      <td>0.484487</td>\n",
       "      <td>-0.251660</td>\n",
       "      <td>0.083572</td>\n",
       "      <td>0.043673</td>\n",
       "      <td>0.061681</td>\n",
       "      <td>0.139435</td>\n",
       "      <td>0.067772</td>\n",
       "      <td>0.022041</td>\n",
       "    </tr>\n",
       "    <tr>\n",
       "      <th>eqpdays</th>\n",
       "      <td>-0.221958</td>\n",
       "      <td>-0.243999</td>\n",
       "      <td>-0.204684</td>\n",
       "      <td>0.484487</td>\n",
       "      <td>1.000000</td>\n",
       "      <td>-0.394750</td>\n",
       "      <td>0.113467</td>\n",
       "      <td>0.045884</td>\n",
       "      <td>0.071068</td>\n",
       "      <td>0.123862</td>\n",
       "      <td>-0.025709</td>\n",
       "      <td>0.112731</td>\n",
       "    </tr>\n",
       "    <tr>\n",
       "      <th>webcap</th>\n",
       "      <td>0.106620</td>\n",
       "      <td>0.112359</td>\n",
       "      <td>0.092961</td>\n",
       "      <td>-0.251660</td>\n",
       "      <td>-0.394750</td>\n",
       "      <td>1.000000</td>\n",
       "      <td>-0.059369</td>\n",
       "      <td>-0.006382</td>\n",
       "      <td>-0.029652</td>\n",
       "      <td>-0.064909</td>\n",
       "      <td>-0.008354</td>\n",
       "      <td>-0.067481</td>\n",
       "    </tr>\n",
       "    <tr>\n",
       "      <th>marryyes</th>\n",
       "      <td>-0.096705</td>\n",
       "      <td>-0.125843</td>\n",
       "      <td>-0.094644</td>\n",
       "      <td>0.083572</td>\n",
       "      <td>0.113467</td>\n",
       "      <td>-0.059369</td>\n",
       "      <td>1.000000</td>\n",
       "      <td>0.150330</td>\n",
       "      <td>0.331503</td>\n",
       "      <td>0.435091</td>\n",
       "      <td>-0.021632</td>\n",
       "      <td>-0.007981</td>\n",
       "    </tr>\n",
       "    <tr>\n",
       "      <th>travel</th>\n",
       "      <td>-0.041864</td>\n",
       "      <td>-0.039030</td>\n",
       "      <td>-0.037147</td>\n",
       "      <td>0.043673</td>\n",
       "      <td>0.045884</td>\n",
       "      <td>-0.006382</td>\n",
       "      <td>0.150330</td>\n",
       "      <td>1.000000</td>\n",
       "      <td>0.254606</td>\n",
       "      <td>0.161626</td>\n",
       "      <td>-0.009184</td>\n",
       "      <td>-0.005919</td>\n",
       "    </tr>\n",
       "    <tr>\n",
       "      <th>pcown</th>\n",
       "      <td>-0.081805</td>\n",
       "      <td>-0.091914</td>\n",
       "      <td>-0.076525</td>\n",
       "      <td>0.061681</td>\n",
       "      <td>0.071068</td>\n",
       "      <td>-0.029652</td>\n",
       "      <td>0.331503</td>\n",
       "      <td>0.254606</td>\n",
       "      <td>1.000000</td>\n",
       "      <td>0.292806</td>\n",
       "      <td>-0.018081</td>\n",
       "      <td>-0.004160</td>\n",
       "    </tr>\n",
       "    <tr>\n",
       "      <th>creditcd</th>\n",
       "      <td>-0.087456</td>\n",
       "      <td>-0.098286</td>\n",
       "      <td>-0.078713</td>\n",
       "      <td>0.139435</td>\n",
       "      <td>0.123862</td>\n",
       "      <td>-0.064909</td>\n",
       "      <td>0.435091</td>\n",
       "      <td>0.161626</td>\n",
       "      <td>0.292806</td>\n",
       "      <td>1.000000</td>\n",
       "      <td>-0.009132</td>\n",
       "      <td>-0.014498</td>\n",
       "    </tr>\n",
       "    <tr>\n",
       "      <th>retcalls</th>\n",
       "      <td>0.015427</td>\n",
       "      <td>0.012671</td>\n",
       "      <td>0.004195</td>\n",
       "      <td>0.067772</td>\n",
       "      <td>-0.025709</td>\n",
       "      <td>-0.008354</td>\n",
       "      <td>-0.021632</td>\n",
       "      <td>-0.009184</td>\n",
       "      <td>-0.018081</td>\n",
       "      <td>-0.009132</td>\n",
       "      <td>1.000000</td>\n",
       "      <td>0.070788</td>\n",
       "    </tr>\n",
       "    <tr>\n",
       "      <th>churndep</th>\n",
       "      <td>-0.013566</td>\n",
       "      <td>-0.037233</td>\n",
       "      <td>-0.042031</td>\n",
       "      <td>0.022041</td>\n",
       "      <td>0.112731</td>\n",
       "      <td>-0.067481</td>\n",
       "      <td>-0.007981</td>\n",
       "      <td>-0.005919</td>\n",
       "      <td>-0.004160</td>\n",
       "      <td>-0.014498</td>\n",
       "      <td>0.070788</td>\n",
       "      <td>1.000000</td>\n",
       "    </tr>\n",
       "  </tbody>\n",
       "</table>\n",
       "</div>"
      ],
      "text/plain": [
       "           revenue  outcalls   incalls    months   eqpdays    webcap  \\\n",
       "revenue   1.000000  0.500870  0.391010 -0.015780 -0.221958  0.106620   \n",
       "outcalls  0.500870  1.000000  0.732988 -0.040653 -0.243999  0.112359   \n",
       "incalls   0.391010  0.732988  1.000000 -0.026167 -0.204684  0.092961   \n",
       "months   -0.015780 -0.040653 -0.026167  1.000000  0.484487 -0.251660   \n",
       "eqpdays  -0.221958 -0.243999 -0.204684  0.484487  1.000000 -0.394750   \n",
       "webcap    0.106620  0.112359  0.092961 -0.251660 -0.394750  1.000000   \n",
       "marryyes -0.096705 -0.125843 -0.094644  0.083572  0.113467 -0.059369   \n",
       "travel   -0.041864 -0.039030 -0.037147  0.043673  0.045884 -0.006382   \n",
       "pcown    -0.081805 -0.091914 -0.076525  0.061681  0.071068 -0.029652   \n",
       "creditcd -0.087456 -0.098286 -0.078713  0.139435  0.123862 -0.064909   \n",
       "retcalls  0.015427  0.012671  0.004195  0.067772 -0.025709 -0.008354   \n",
       "churndep -0.013566 -0.037233 -0.042031  0.022041  0.112731 -0.067481   \n",
       "\n",
       "          marryyes    travel     pcown  creditcd  retcalls  churndep  \n",
       "revenue  -0.096705 -0.041864 -0.081805 -0.087456  0.015427 -0.013566  \n",
       "outcalls -0.125843 -0.039030 -0.091914 -0.098286  0.012671 -0.037233  \n",
       "incalls  -0.094644 -0.037147 -0.076525 -0.078713  0.004195 -0.042031  \n",
       "months    0.083572  0.043673  0.061681  0.139435  0.067772  0.022041  \n",
       "eqpdays   0.113467  0.045884  0.071068  0.123862 -0.025709  0.112731  \n",
       "webcap   -0.059369 -0.006382 -0.029652 -0.064909 -0.008354 -0.067481  \n",
       "marryyes  1.000000  0.150330  0.331503  0.435091 -0.021632 -0.007981  \n",
       "travel    0.150330  1.000000  0.254606  0.161626 -0.009184 -0.005919  \n",
       "pcown     0.331503  0.254606  1.000000  0.292806 -0.018081 -0.004160  \n",
       "creditcd  0.435091  0.161626  0.292806  1.000000 -0.009132 -0.014498  \n",
       "retcalls -0.021632 -0.009184 -0.018081 -0.009132  1.000000  0.070788  \n",
       "churndep -0.007981 -0.005919 -0.004160 -0.014498  0.070788  1.000000  "
      ]
     },
     "execution_count": 83,
     "metadata": {},
     "output_type": "execute_result"
    }
   ],
   "source": [
    "# Code/answer \n",
    "Correlation = df.corr()\n",
    "Correlation\n"
   ]
  },
  {
   "cell_type": "markdown",
   "metadata": {
    "collapsed": false
   },
   "source": [
    "#### Answer: The top 3 most importnat features are \"revenue\", \"eqpdays\" and \"outcalls\". \n",
    "\n",
    "The correlation between \"revenue\" and \"eqpdays\" is -0.221958.\n",
    "\n",
    "So revenue and eqpdays are negatively correlated. \n",
    "\n",
    "The correlation between \"revenue\" and \"outcalls\" is 0.500870.\n",
    "\n",
    "So revenue and outcalls are positively correlated.\n",
    "\n",
    "The correlation between \"eqpdays\" and \"outcalls\" is -0.243999.\n",
    "\n",
    "So eqpdays and outcalls are negatively correlated.\n",
    "\n",
    "The correlation between \"revenue\" and \"churndep\" is -0.013566.\n",
    "\n",
    "So revenue and churndep is negatively correlated. \n",
    "\n",
    "The correlation between \"eqpdays\" and \"churndep\" is 0.112731.\n",
    "\n",
    "So eqpdays and churndep is positively correlated.\n",
    "\n",
    "The correlation between \"outcalls\" and \"churndep\" is -0.037233.\n",
    "\n",
    "So outcalls and churndep is negatively correlated.\n",
    "\n",
    "The real-life connections are: the higher the monthly revenue the customer has, the less possible that the customer churned; the larger the number of days the customer has had his/her current equipment, the more possible that the customer churned; the larger the number of outbound voice calls is, the less possible that the customer churned. \n",
    "\n"
   ]
  },
  {
   "cell_type": "markdown",
   "metadata": {},
   "source": [
    "6\\. Using the classifier built in 2.2, try predicting `\"churndep\"` on both the train_df and test_df data sets. What is the accuracy on each?"
   ]
  },
  {
   "cell_type": "code",
   "execution_count": 106,
   "metadata": {
    "collapsed": false
   },
   "outputs": [],
   "source": [
    "import pandas as pd\n",
    "import numpy as np\n",
    "import scipy as sp\n",
    "import matplotlib.pyplot as plt\n",
    "\n",
    "from sklearn.metrics import confusion_matrix, roc_auc_score\n",
    "import sys\n",
    "\n",
    "#These all need to be installed to both run and visualize a tree\n",
    "from sklearn.tree import DecisionTreeClassifier\n",
    "from sklearn.tree import export_graphviz\n",
    "from IPython.display import Image\n",
    "%matplotlib inline"
   ]
  },
  {
   "cell_type": "code",
   "execution_count": 107,
   "metadata": {
    "collapsed": false
   },
   "outputs": [
    {
     "data": {
      "text/plain": [
       "array([[15973,     6],\n",
       "       [    0, 15908]])"
      ]
     },
     "execution_count": 107,
     "metadata": {},
     "output_type": "execute_result"
    }
   ],
   "source": [
    "cm = confusion_matrix(clf.predict(train_df.drop(lab, 1)), train_df['churndep'])\n",
    "cm \n",
    "# accuracy = (cm[0][0] + cm[1][1]) / float(sum(cm))"
   ]
  },
  {
   "cell_type": "code",
   "execution_count": 86,
   "metadata": {
    "collapsed": false,
    "scrolled": true
   },
   "outputs": [
    {
     "data": {
      "text/plain": [
       "0.99981183554426567"
      ]
     },
     "execution_count": 86,
     "metadata": {},
     "output_type": "execute_result"
    }
   ],
   "source": [
    "ans1 = (cm[0][0] + cm[1][1]) /(cm[0][0] + cm[1][1] +cm[0][1]+cm[1][0] )\n",
    "ans1\n"
   ]
  },
  {
   "cell_type": "markdown",
   "metadata": {},
   "source": [
    "#### So the prediciton accuray on train_df is around 0.99981."
   ]
  },
  {
   "cell_type": "code",
   "execution_count": 111,
   "metadata": {
    "collapsed": false
   },
   "outputs": [
    {
     "data": {
      "text/plain": [
       "array([[2143, 1874],\n",
       "       [1842, 2113]])"
      ]
     },
     "execution_count": 111,
     "metadata": {},
     "output_type": "execute_result"
    }
   ],
   "source": [
    "cm2 = confusion_matrix(clf.predict(test_df.drop(lab, 1)), test_df['churndep'])\n",
    "cm2 "
   ]
  },
  {
   "cell_type": "code",
   "execution_count": 112,
   "metadata": {
    "collapsed": false
   },
   "outputs": [
    {
     "data": {
      "text/plain": [
       "0.53386853988961369"
      ]
     },
     "execution_count": 112,
     "metadata": {},
     "output_type": "execute_result"
    }
   ],
   "source": [
    "ans2 = (cm2[0][0] + cm2[1][1]) /(cm2[0][0] + cm2[1][1] +cm2[0][1]+cm2[1][0] )\n",
    "ans2"
   ]
  },
  {
   "cell_type": "markdown",
   "metadata": {},
   "source": [
    "#### So the prediciton accuray on test_df is around 0.531736\n",
    "\n",
    "=====================================================================================================================\n",
    "\n",
    "\n"
   ]
  },
  {
   "cell_type": "markdown",
   "metadata": {},
   "source": [
    "### Part 2 - Finding a Good Decision Tree\n",
    "The default options for your decision tree may not be optimal. We need to analyze whether tuning the parameters can improve the accuracy of the classifier.  For the following options `min_samples_split` and `min_samples_leaf`:"
   ]
  },
  {
   "cell_type": "markdown",
   "metadata": {},
   "source": [
    "1\\. Generate a list of 10 values of each for the parameters mim_samples_split and min_samples_leaf. "
   ]
  },
  {
   "cell_type": "code",
   "execution_count": 273,
   "metadata": {
    "collapsed": true
   },
   "outputs": [],
   "source": [
    "# Code here\n",
    "\n",
    "\n",
    "#Create a function to calculate prediciton accuracy on test data with min_samples_split_values and min_samples_leaf_values as input\n",
    "def accuracy_test(min_samples_split_values,min_samples_leaf_values):\n",
    "    import pandas as pd\n",
    "    import numpy as np\n",
    "    import scipy as sp\n",
    "    import matplotlib.pyplot as plt\n",
    "\n",
    "    from sklearn.metrics import confusion_matrix, roc_auc_score\n",
    "    import sys\n",
    "\n",
    "    #These all need to be installed to both run and visualize a tree\n",
    "    from sklearn.tree import DecisionTreeClassifier\n",
    "    from sklearn.tree import export_graphviz\n",
    "    from IPython.display import Image\n",
    "    %matplotlib inline\n",
    "    \n",
    "    clf = DecisionTreeClassifier(criterion='entropy', min_samples_split = min_samples_split_values, min_samples_leaf = min_samples_leaf_values )\n",
    "    lab = 'churndep'\n",
    "    clf = clf.fit(train_df.drop(lab, 1), train_df[lab])\n",
    "    cm = confusion_matrix(clf.predict(test_df.drop(lab, 1)), test_df['churndep'])\n",
    "    acc = (cm[0][0] + cm[1][1]) /(cm[0][0] + cm[1][1] +cm[0][1]+cm[1][0] )\n",
    "    \n",
    "    return acc\n",
    "\n"
   ]
  },
  {
   "cell_type": "code",
   "execution_count": 274,
   "metadata": {
    "collapsed": false
   },
   "outputs": [
    {
     "data": {
      "text/plain": [
       "0.53211239337681882"
      ]
     },
     "execution_count": 274,
     "metadata": {},
     "output_type": "execute_result"
    }
   ],
   "source": [
    "# Test whether the function is correct. Compare with the value calculated before. \n",
    "accuracy_test(2,1)"
   ]
  },
  {
   "cell_type": "code",
   "execution_count": 306,
   "metadata": {
    "collapsed": false
   },
   "outputs": [
    {
     "data": {
      "text/plain": [
       "0.59019066733567482"
      ]
     },
     "execution_count": 306,
     "metadata": {},
     "output_type": "execute_result"
    }
   ],
   "source": [
    "# test multiple times using different pairs of parameters values\n",
    "accuracy_test(300,2200)"
   ]
  },
  {
   "cell_type": "markdown",
   "metadata": {},
   "source": [
    "### The lists I generated are:"
   ]
  },
  {
   "cell_type": "code",
   "execution_count": 307,
   "metadata": {
    "collapsed": true
   },
   "outputs": [],
   "source": [
    "min_samples_split_values = [2,1000,2000,3000,4000,5000,6000,7000,8000,10000]\n",
    "min_samples_leaf_values = [1,20,50,80,150,200,300,500,800,1000]"
   ]
  },
  {
   "cell_type": "markdown",
   "metadata": {},
   "source": [
    "2\\. Explain in words your reasoning for choosing the above ranges."
   ]
  },
  {
   "cell_type": "markdown",
   "metadata": {},
   "source": [
    "#### Answer:\n",
    "\n",
    "First of all I created a function \"accuracy_test(min_samples_split_values,min_samples_leaf_values)\" to calcualte the prediction accuracy with the min_samples_split_values and min_samples_leaf_values as input.\n",
    "\n",
    "Then I used the function to test.\n",
    "\n",
    "Since the goal is to analyze whether tuning the parameters can improve the accuracy of the classifier. So we have better enlarge the range of the min_samples_split_values and min_samples_leaf_values as input so that we could see whether tuning the parameters can improve the accuracy of the classifier obviously. \n",
    "\n",
    "After testing multiple times, I could see the range for min_samples_split_values and min_samples_leaf_values I generated above include the peak prediction, and the range can show the change of the prediction well. So I generate:\n",
    "\n",
    "min_samples_split_values = [2,1000,2000,3000,4000,5000,6000,7000,8000,10000]\n",
    "\n",
    "and\n",
    " \n",
    "min_samples_leaf_values = [1,20,50,80,150,200,300,500,800,1000]"
   ]
  },
  {
   "cell_type": "markdown",
   "metadata": {},
   "source": [
    "3\\. For each combination of values in 3.1 (there should be 100), build a new classifier and check the classifier's accuracy on the test data. Plot the test set accuracy for these options. Use the values of `min_samples_split` as the x-axis and generate a new series (line) for each of `min_samples_leaf`."
   ]
  },
  {
   "cell_type": "code",
   "execution_count": 313,
   "metadata": {
    "collapsed": false
   },
   "outputs": [
    {
     "data": {
      "text/plain": [
       "<matplotlib.text.Text at 0x11b0495f8>"
      ]
     },
     "execution_count": 313,
     "metadata": {},
     "output_type": "execute_result"
    },
    {
     "data": {
      "image/png": "[encoded data removed]",
      "text/plain": [
       "<matplotlib.figure.Figure at 0x11be6c400>"
      ]
     },
     "metadata": {},
     "output_type": "display_data"
    }
   ],
   "source": [
    "lab = 'y_buy'\n",
    "\n",
    "# depths = [4, 5, 10, 20]\n",
    "# leaves = np.arange(1, 101)\n",
    "leaf = [1,20,50,80,150,200,300,500,800,1000]\n",
    "split = [2,1000,2000,3000,4000,5000,6000,7000,8000,10000]\n",
    "\n",
    "\n",
    "\n",
    "#Run all of the options\n",
    "run=1\n",
    "if (run == 1):\n",
    "    #Initialize dictionary of results\n",
    "    res = dict()\n",
    "    for d in leaf:\n",
    "        res[d] = list()\n",
    "\n",
    "    #Now train and get results for each option\n",
    "    for d in leaf:\n",
    "        for l in split:\n",
    "            res[d].append(accuracy_test(l,d))\n",
    "            \n",
    "            \n",
    "#Now plot            \n",
    "fig = plt.figure()\n",
    "ax=fig.add_subplot(111)\n",
    "plt.plot(split,res[leaf[0]], 'b-', label = 'Leaf={}'.format(leaf[0]))\n",
    "plt.plot(split,res[leaf[1]], 'r-', label = 'Leaf={}'.format(leaf[1]))\n",
    "plt.plot(split,res[leaf[2]], 'y-', label = 'Leaf={}'.format(leaf[2]))\n",
    "plt.plot(split,res[leaf[3]], 'g-', label = 'Leaf={}'.format(leaf[3]))\n",
    "plt.plot(split,res[leaf[4]], color = '#eeefff', label = 'Depth={}'.format(leaf[4]))\n",
    "plt.plot(split,res[leaf[5]], 'c-', label = 'Leaf={}'.format(leaf[5]))\n",
    "plt.plot(split,res[leaf[6]], 'm-', label = 'Leaf={}'.format(leaf[6]))\n",
    "plt.plot(split,res[leaf[7]], 'k-', label = 'Leaf={}'.format(leaf[7]))\n",
    "plt.plot(split,res[leaf[8]], 'w-', label = 'Leaf={}'.format(leaf[8]))\n",
    "plt.plot(split,res[leaf[9]], color = '#800000', label = 'Leaf={}'.format(leaf[9]))\n",
    "\n",
    "\n",
    "plt.legend(loc = 10)\n",
    "ax.set_xlabel('Min samples split values')\n",
    "ax.set_ylabel('Accuracy')\n",
    "plt.title('Part 2 Question 3')"
   ]
  },
  {
   "cell_type": "markdown",
   "metadata": {},
   "source": [
    "4\\. Which configuration returns the best accuracy? What is this accuracy? (Note, if you don't see much variation in the test set accuracy across values of min_samples_split or min_samples_leaf, try redoing the above steps with a different range of values)."
   ]
  },
  {
   "cell_type": "code",
   "execution_count": 314,
   "metadata": {
    "collapsed": true
   },
   "outputs": [],
   "source": [
    "# Code here\n",
    "\n",
    "\n",
    "parameters_final = []\n",
    "prediction_final = []\n",
    "for i in range(0,10):\n",
    "    for j in range(0,10):\n",
    "        parameters = (min_samples_split_values[i],min_samples_leaf_values[j])\n",
    "        value = accuracy_test(min_samples_split_values[i],min_samples_leaf_values[j])\n",
    "        parameters_final.append(parameters)\n",
    "        prediction_final.append(value)"
   ]
  },
  {
   "cell_type": "code",
   "execution_count": 315,
   "metadata": {
    "collapsed": false
   },
   "outputs": [
    {
     "name": "stderr",
     "output_type": "stream",
     "text": [
      "//anaconda/lib/python3.6/site-packages/ipykernel/__main__.py:10: FutureWarning: sort(columns=....) is deprecated, use sort_values(by=.....)\n"
     ]
    },
    {
     "data": {
      "text/html": [
       "<div>\n",
       "<table border=\"1\" class=\"dataframe\">\n",
       "  <thead>\n",
       "    <tr style=\"text-align: right;\">\n",
       "      <th></th>\n",
       "      <th>(min_samples_split, min_samples_leaf)</th>\n",
       "      <th>prediction_accuracy</th>\n",
       "    </tr>\n",
       "  </thead>\n",
       "  <tbody>\n",
       "    <tr>\n",
       "      <th>16</th>\n",
       "      <td>(1000, 300)</td>\n",
       "      <td>0.596463</td>\n",
       "    </tr>\n",
       "    <tr>\n",
       "      <th>50</th>\n",
       "      <td>(5000, 1)</td>\n",
       "      <td>0.593954</td>\n",
       "    </tr>\n",
       "    <tr>\n",
       "      <th>40</th>\n",
       "      <td>(4000, 1)</td>\n",
       "      <td>0.593954</td>\n",
       "    </tr>\n",
       "    <tr>\n",
       "      <th>7</th>\n",
       "      <td>(2, 500)</td>\n",
       "      <td>0.593201</td>\n",
       "    </tr>\n",
       "    <tr>\n",
       "      <th>17</th>\n",
       "      <td>(1000, 500)</td>\n",
       "      <td>0.593201</td>\n",
       "    </tr>\n",
       "    <tr>\n",
       "      <th>54</th>\n",
       "      <td>(5000, 150)</td>\n",
       "      <td>0.593076</td>\n",
       "    </tr>\n",
       "    <tr>\n",
       "      <th>53</th>\n",
       "      <td>(5000, 80)</td>\n",
       "      <td>0.593076</td>\n",
       "    </tr>\n",
       "    <tr>\n",
       "      <th>52</th>\n",
       "      <td>(5000, 50)</td>\n",
       "      <td>0.593076</td>\n",
       "    </tr>\n",
       "    <tr>\n",
       "      <th>51</th>\n",
       "      <td>(5000, 20)</td>\n",
       "      <td>0.593076</td>\n",
       "    </tr>\n",
       "    <tr>\n",
       "      <th>43</th>\n",
       "      <td>(4000, 80)</td>\n",
       "      <td>0.593076</td>\n",
       "    </tr>\n",
       "    <tr>\n",
       "      <th>42</th>\n",
       "      <td>(4000, 50)</td>\n",
       "      <td>0.593076</td>\n",
       "    </tr>\n",
       "    <tr>\n",
       "      <th>41</th>\n",
       "      <td>(4000, 20)</td>\n",
       "      <td>0.593076</td>\n",
       "    </tr>\n",
       "    <tr>\n",
       "      <th>44</th>\n",
       "      <td>(4000, 150)</td>\n",
       "      <td>0.593076</td>\n",
       "    </tr>\n",
       "    <tr>\n",
       "      <th>13</th>\n",
       "      <td>(1000, 80)</td>\n",
       "      <td>0.592950</td>\n",
       "    </tr>\n",
       "    <tr>\n",
       "      <th>62</th>\n",
       "      <td>(6000, 50)</td>\n",
       "      <td>0.592323</td>\n",
       "    </tr>\n",
       "    <tr>\n",
       "      <th>65</th>\n",
       "      <td>(6000, 200)</td>\n",
       "      <td>0.592323</td>\n",
       "    </tr>\n",
       "    <tr>\n",
       "      <th>64</th>\n",
       "      <td>(6000, 150)</td>\n",
       "      <td>0.592323</td>\n",
       "    </tr>\n",
       "    <tr>\n",
       "      <th>63</th>\n",
       "      <td>(6000, 80)</td>\n",
       "      <td>0.592323</td>\n",
       "    </tr>\n",
       "    <tr>\n",
       "      <th>60</th>\n",
       "      <td>(6000, 1)</td>\n",
       "      <td>0.592323</td>\n",
       "    </tr>\n",
       "    <tr>\n",
       "      <th>67</th>\n",
       "      <td>(6000, 500)</td>\n",
       "      <td>0.592323</td>\n",
       "    </tr>\n",
       "    <tr>\n",
       "      <th>66</th>\n",
       "      <td>(6000, 300)</td>\n",
       "      <td>0.592323</td>\n",
       "    </tr>\n",
       "    <tr>\n",
       "      <th>61</th>\n",
       "      <td>(6000, 20)</td>\n",
       "      <td>0.592323</td>\n",
       "    </tr>\n",
       "    <tr>\n",
       "      <th>30</th>\n",
       "      <td>(3000, 1)</td>\n",
       "      <td>0.591696</td>\n",
       "    </tr>\n",
       "    <tr>\n",
       "      <th>6</th>\n",
       "      <td>(2, 300)</td>\n",
       "      <td>0.591696</td>\n",
       "    </tr>\n",
       "    <tr>\n",
       "      <th>26</th>\n",
       "      <td>(2000, 300)</td>\n",
       "      <td>0.591696</td>\n",
       "    </tr>\n",
       "    <tr>\n",
       "      <th>69</th>\n",
       "      <td>(6000, 1000)</td>\n",
       "      <td>0.591194</td>\n",
       "    </tr>\n",
       "    <tr>\n",
       "      <th>20</th>\n",
       "      <td>(2000, 1)</td>\n",
       "      <td>0.591194</td>\n",
       "    </tr>\n",
       "    <tr>\n",
       "      <th>33</th>\n",
       "      <td>(3000, 80)</td>\n",
       "      <td>0.591194</td>\n",
       "    </tr>\n",
       "    <tr>\n",
       "      <th>31</th>\n",
       "      <td>(3000, 20)</td>\n",
       "      <td>0.591069</td>\n",
       "    </tr>\n",
       "    <tr>\n",
       "      <th>32</th>\n",
       "      <td>(3000, 50)</td>\n",
       "      <td>0.590943</td>\n",
       "    </tr>\n",
       "    <tr>\n",
       "      <th>...</th>\n",
       "      <td>...</td>\n",
       "      <td>...</td>\n",
       "    </tr>\n",
       "    <tr>\n",
       "      <th>19</th>\n",
       "      <td>(1000, 1000)</td>\n",
       "      <td>0.586427</td>\n",
       "    </tr>\n",
       "    <tr>\n",
       "      <th>29</th>\n",
       "      <td>(2000, 1000)</td>\n",
       "      <td>0.586427</td>\n",
       "    </tr>\n",
       "    <tr>\n",
       "      <th>9</th>\n",
       "      <td>(2, 1000)</td>\n",
       "      <td>0.586427</td>\n",
       "    </tr>\n",
       "    <tr>\n",
       "      <th>49</th>\n",
       "      <td>(4000, 1000)</td>\n",
       "      <td>0.586427</td>\n",
       "    </tr>\n",
       "    <tr>\n",
       "      <th>5</th>\n",
       "      <td>(2, 200)</td>\n",
       "      <td>0.584420</td>\n",
       "    </tr>\n",
       "    <tr>\n",
       "      <th>4</th>\n",
       "      <td>(2, 150)</td>\n",
       "      <td>0.583668</td>\n",
       "    </tr>\n",
       "    <tr>\n",
       "      <th>3</th>\n",
       "      <td>(2, 80)</td>\n",
       "      <td>0.581786</td>\n",
       "    </tr>\n",
       "    <tr>\n",
       "      <th>90</th>\n",
       "      <td>(10000, 1)</td>\n",
       "      <td>0.578149</td>\n",
       "    </tr>\n",
       "    <tr>\n",
       "      <th>94</th>\n",
       "      <td>(10000, 150)</td>\n",
       "      <td>0.578149</td>\n",
       "    </tr>\n",
       "    <tr>\n",
       "      <th>91</th>\n",
       "      <td>(10000, 20)</td>\n",
       "      <td>0.578149</td>\n",
       "    </tr>\n",
       "    <tr>\n",
       "      <th>92</th>\n",
       "      <td>(10000, 50)</td>\n",
       "      <td>0.578149</td>\n",
       "    </tr>\n",
       "    <tr>\n",
       "      <th>93</th>\n",
       "      <td>(10000, 80)</td>\n",
       "      <td>0.578149</td>\n",
       "    </tr>\n",
       "    <tr>\n",
       "      <th>97</th>\n",
       "      <td>(10000, 500)</td>\n",
       "      <td>0.578149</td>\n",
       "    </tr>\n",
       "    <tr>\n",
       "      <th>95</th>\n",
       "      <td>(10000, 200)</td>\n",
       "      <td>0.578149</td>\n",
       "    </tr>\n",
       "    <tr>\n",
       "      <th>96</th>\n",
       "      <td>(10000, 300)</td>\n",
       "      <td>0.578149</td>\n",
       "    </tr>\n",
       "    <tr>\n",
       "      <th>98</th>\n",
       "      <td>(10000, 800)</td>\n",
       "      <td>0.578149</td>\n",
       "    </tr>\n",
       "    <tr>\n",
       "      <th>88</th>\n",
       "      <td>(8000, 800)</td>\n",
       "      <td>0.578149</td>\n",
       "    </tr>\n",
       "    <tr>\n",
       "      <th>89</th>\n",
       "      <td>(8000, 1000)</td>\n",
       "      <td>0.578149</td>\n",
       "    </tr>\n",
       "    <tr>\n",
       "      <th>99</th>\n",
       "      <td>(10000, 1000)</td>\n",
       "      <td>0.578149</td>\n",
       "    </tr>\n",
       "    <tr>\n",
       "      <th>87</th>\n",
       "      <td>(8000, 500)</td>\n",
       "      <td>0.578149</td>\n",
       "    </tr>\n",
       "    <tr>\n",
       "      <th>86</th>\n",
       "      <td>(8000, 300)</td>\n",
       "      <td>0.578149</td>\n",
       "    </tr>\n",
       "    <tr>\n",
       "      <th>85</th>\n",
       "      <td>(8000, 200)</td>\n",
       "      <td>0.578149</td>\n",
       "    </tr>\n",
       "    <tr>\n",
       "      <th>84</th>\n",
       "      <td>(8000, 150)</td>\n",
       "      <td>0.578149</td>\n",
       "    </tr>\n",
       "    <tr>\n",
       "      <th>83</th>\n",
       "      <td>(8000, 80)</td>\n",
       "      <td>0.578149</td>\n",
       "    </tr>\n",
       "    <tr>\n",
       "      <th>82</th>\n",
       "      <td>(8000, 50)</td>\n",
       "      <td>0.578149</td>\n",
       "    </tr>\n",
       "    <tr>\n",
       "      <th>81</th>\n",
       "      <td>(8000, 20)</td>\n",
       "      <td>0.578149</td>\n",
       "    </tr>\n",
       "    <tr>\n",
       "      <th>80</th>\n",
       "      <td>(8000, 1)</td>\n",
       "      <td>0.578149</td>\n",
       "    </tr>\n",
       "    <tr>\n",
       "      <th>2</th>\n",
       "      <td>(2, 50)</td>\n",
       "      <td>0.570120</td>\n",
       "    </tr>\n",
       "    <tr>\n",
       "      <th>1</th>\n",
       "      <td>(2, 20)</td>\n",
       "      <td>0.561841</td>\n",
       "    </tr>\n",
       "    <tr>\n",
       "      <th>0</th>\n",
       "      <td>(2, 1)</td>\n",
       "      <td>0.532865</td>\n",
       "    </tr>\n",
       "  </tbody>\n",
       "</table>\n",
       "<p>100 rows × 2 columns</p>\n",
       "</div>"
      ],
      "text/plain": [
       "   (min_samples_split, min_samples_leaf)  prediction_accuracy\n",
       "16                           (1000, 300)             0.596463\n",
       "50                             (5000, 1)             0.593954\n",
       "40                             (4000, 1)             0.593954\n",
       "7                               (2, 500)             0.593201\n",
       "17                           (1000, 500)             0.593201\n",
       "54                           (5000, 150)             0.593076\n",
       "53                            (5000, 80)             0.593076\n",
       "52                            (5000, 50)             0.593076\n",
       "51                            (5000, 20)             0.593076\n",
       "43                            (4000, 80)             0.593076\n",
       "42                            (4000, 50)             0.593076\n",
       "41                            (4000, 20)             0.593076\n",
       "44                           (4000, 150)             0.593076\n",
       "13                            (1000, 80)             0.592950\n",
       "62                            (6000, 50)             0.592323\n",
       "65                           (6000, 200)             0.592323\n",
       "64                           (6000, 150)             0.592323\n",
       "63                            (6000, 80)             0.592323\n",
       "60                             (6000, 1)             0.592323\n",
       "67                           (6000, 500)             0.592323\n",
       "66                           (6000, 300)             0.592323\n",
       "61                            (6000, 20)             0.592323\n",
       "30                             (3000, 1)             0.591696\n",
       "6                               (2, 300)             0.591696\n",
       "26                           (2000, 300)             0.591696\n",
       "69                          (6000, 1000)             0.591194\n",
       "20                             (2000, 1)             0.591194\n",
       "33                            (3000, 80)             0.591194\n",
       "31                            (3000, 20)             0.591069\n",
       "32                            (3000, 50)             0.590943\n",
       "..                                   ...                  ...\n",
       "19                          (1000, 1000)             0.586427\n",
       "29                          (2000, 1000)             0.586427\n",
       "9                              (2, 1000)             0.586427\n",
       "49                          (4000, 1000)             0.586427\n",
       "5                               (2, 200)             0.584420\n",
       "4                               (2, 150)             0.583668\n",
       "3                                (2, 80)             0.581786\n",
       "90                            (10000, 1)             0.578149\n",
       "94                          (10000, 150)             0.578149\n",
       "91                           (10000, 20)             0.578149\n",
       "92                           (10000, 50)             0.578149\n",
       "93                           (10000, 80)             0.578149\n",
       "97                          (10000, 500)             0.578149\n",
       "95                          (10000, 200)             0.578149\n",
       "96                          (10000, 300)             0.578149\n",
       "98                          (10000, 800)             0.578149\n",
       "88                           (8000, 800)             0.578149\n",
       "89                          (8000, 1000)             0.578149\n",
       "99                         (10000, 1000)             0.578149\n",
       "87                           (8000, 500)             0.578149\n",
       "86                           (8000, 300)             0.578149\n",
       "85                           (8000, 200)             0.578149\n",
       "84                           (8000, 150)             0.578149\n",
       "83                            (8000, 80)             0.578149\n",
       "82                            (8000, 50)             0.578149\n",
       "81                            (8000, 20)             0.578149\n",
       "80                             (8000, 1)             0.578149\n",
       "2                                (2, 50)             0.570120\n",
       "1                                (2, 20)             0.561841\n",
       "0                                 (2, 1)             0.532865\n",
       "\n",
       "[100 rows x 2 columns]"
      ]
     },
     "execution_count": 315,
     "metadata": {},
     "output_type": "execute_result"
    }
   ],
   "source": [
    "# Creat and sorted dataframe to find the prediciton and parameteres in descending order.\n",
    "parameter_prediciton_accuracy_final = []\n",
    "for i in range(0,100):\n",
    "    value = (parameters_final[i], prediction_final[i])\n",
    "    parameter_prediciton_accuracy_final.append(value)\n",
    "parameter_prediciton_accuracy_final\n",
    "\n",
    "parameter_prediciton_accuracy_final_df = pd.DataFrame(parameter_prediciton_accuracy_final, columns=[\"(min_samples_split, min_samples_leaf)\", \"prediction_accuracy\"])  \n",
    "\n",
    "parameter_prediciton_accuracy_final_df_sorted = parameter_prediciton_accuracy_final_df.sort('prediction_accuracy', ascending=False)\n",
    "\n",
    "parameter_prediciton_accuracy_final_df_sorted "
   ]
  },
  {
   "cell_type": "markdown",
   "metadata": {
    "collapsed": true
   },
   "source": [
    "#### Answer:\n",
    "From the table above we can see that when \"min_samples_split = 1000\" and \"min_samples_leaf = 300\", we get the best accuracy.\n",
    "\n",
    "The accuracy is 0.596463.\n",
    "\n"
   ]
  },
  {
   "cell_type": "markdown",
   "metadata": {},
   "source": [
    "5\\. If you were working for a marketing department, how would you use your churn production model in a real business environment? Explain why churn prediction might be good for the business and how one might improve churn by using this model."
   ]
  },
  {
   "cell_type": "markdown",
   "metadata": {},
   "source": [
    "#### Answer:\n",
    "\n",
    "The top three features that influence churn are eqpdays, revenue and outcalls.\n",
    "\n",
    "Here: the definition of the three features are:\n",
    "\n",
    "eqpdays: Number of days the customer has had his/her current equipment\n",
    "\n",
    "revenue: Mean monthly revenue in dollars\n",
    "\n",
    "outcalls: Mean number of outbound voice calls\n",
    "\n",
    "Revenue and churndep is negatively correlated, eqpdays and churndep is positively correlated, and outcalls and churndep is negatively correlated.\n",
    "\n",
    "So in order to keep more customers, we had better to provide products that could attract customers with high revenue and who have more outcalls. The customers had better has less eqdays. Then the churned would happen less. \n",
    "\n",
    "We also analyzed that revenue and eqpdays are negatively correlated,revenue and outcalls are positively correlated, and eqpdays and outcalls are negatively correlated. So it is very easy to recognize which customers are less likely to churn. We could focus on the revenue of a customers. If a customer has high revenue, he or she is less likely to churn. \n",
    "\n",
    "Churn prediction is good for the business. So the company could predict in advance which customer would leave the company and try to keep the customer before he or she leavse. \n",
    "\n",
    "When predicting churn we use the decision tree classifier with 'entropy'as the criterion, and set \"min_samples_split = 1000\" and \"min_samples_leaf = 300\". Then we could have the highest churn prediction accuracy. With the help of prediction, the company would keep more costomers.  \n",
    "\n",
    "\n",
    "\n",
    "\n"
   ]
  }
 ],
 "metadata": {
  "kernelspec": {
   "display_name": "Python 3",
   "language": "python",
   "name": "python3"
  },
  "language_info": {
   "codemirror_mode": {
    "name": "ipython",
    "version": 3
   },
   "file_extension": ".py",
   "mimetype": "text/x-python",
   "name": "python",
   "nbconvert_exporter": "python",
   "pygments_lexer": "ipython3",
   "version": "3.6.0"
  }
 },
 "nbformat": 4,
 "nbformat_minor": 0
}
